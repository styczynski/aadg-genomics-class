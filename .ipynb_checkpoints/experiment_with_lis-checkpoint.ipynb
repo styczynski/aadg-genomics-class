{
 "cells": [
  {
   "cell_type": "code",
   "execution_count": 80,
   "id": "8c749b40-16bf-48b0-9f48-d203d19fde4e",
   "metadata": {},
   "outputs": [
    {
     "name": "stdout",
     "output_type": "stream",
     "text": [
      "19\n"
     ]
    }
   ],
   "source": [
    "matchesl = [\n",
    "    [10, 1],\n",
    "    [10, 5],\n",
    "    [11, 2],\n",
    "    [15, 8],\n",
    "    [19, 3],\n",
    "    [20, 3],\n",
    "    [25, 5],\n",
    "    [25, 10],\n",
    "    [26, 7],\n",
    "    [50, 2],\n",
    "    [50, 10],\n",
    "    [50, 11],\n",
    "    [55, 12],\n",
    "    [57, 13],\n",
    "    [80, 5],\n",
    "    [83, 6],\n",
    "    [85, 9],\n",
    "    [90, 12],\n",
    "    [90, 13],\n",
    "]\n",
    "max_diff = 20\n",
    "print(len(matchesl))"
   ]
  },
  {
   "cell_type": "code",
   "execution_count": 81,
   "id": "c4d7d9fe-c355-41ec-87ad-370bc0059ffb",
   "metadata": {},
   "outputs": [
    {
     "name": "stdout",
     "output_type": "stream",
     "text": [
      "[[10, 1], [11, 2], [20, 3], [50, 10], [50, 11], [55, 12], [90, 13]]\n",
      "7\n"
     ]
    }
   ],
   "source": [
    "from sys import maxsize\n",
    "\n",
    "def impl_o(matchesl):\n",
    "    n = len(matchesl)\n",
    "    longest_seq_len = 0\n",
    "    parent = [maxsize]*(n+1)\n",
    "    increasingSub = [maxsize]*(n+1)\n",
    "    for i in range(n):\n",
    "        start = 1\n",
    "        end = longest_seq_len\n",
    "        while start <= end:\n",
    "            middle = (start + end) // 2\n",
    "            if matchesl[increasingSub[start]][0] + max_diff < matchesl[i][0]:\n",
    "                break\n",
    "            elif matchesl[increasingSub[middle]][1] >= matchesl[i][1]:\n",
    "                end = middle - 1\n",
    "            else:\n",
    "                start = middle + 1    \n",
    "        parent[i] = increasingSub[start-1]\n",
    "        increasingSub[start] = i\n",
    "        if start > longest_seq_len:\n",
    "            longest_seq_len = start\n",
    "\n",
    "    current_node = increasingSub[longest_seq_len]\n",
    "    lll = [matchesl[current_node]]*longest_seq_len\n",
    "    for j in range(longest_seq_len-1, 0, -1):\n",
    "        current_node = parent[current_node]\n",
    "        lll[j-1] = matchesl[current_node]\n",
    "    return lll\n",
    "\n",
    "print(impl_o(matchesl))\n",
    "print(len(impl_o(matchesl)))"
   ]
  },
  {
   "cell_type": "code",
   "execution_count": 65,
   "id": "88d3d92a-3b5e-4a4c-8115-54354319be3e",
   "metadata": {
    "scrolled": true
   },
   "outputs": [
    {
     "name": "stdout",
     "output_type": "stream",
     "text": [
      "len = 13\n",
      "[array([20,  3]), array([25,  5]), array([25, 10]), array([26,  7]), array([50,  2]), array([50, 10]), array([50, 11]), array([55, 13]), array([80,  5]), array([83,  6]), array([85,  9]), array([90, 12]), array([90, 13])]\n"
     ]
    }
   ],
   "source": [
    "from numpy import array, searchsorted, where, argwhere\n",
    "\n",
    "def impl_t(matchesl):\n",
    "    n = len(matchesl)\n",
    "    longest_seq_len = 0\n",
    "    parent = [maxsize]*(n+1)\n",
    "    increasingSub = [maxsize]*(n+1)\n",
    "    increasingSubX = array([matchesl[0]]*(n+1))\n",
    "    for i in range(n):\n",
    "        z = argwhere(matches[:longest_seq_len,0]>=matchesl[i][0] - max_diff).flatten() # OK pozycje\n",
    "        if len(z) == 0:\n",
    "            start = longest_seq_len+1\n",
    "        else:\n",
    "            p = searchsorted(increasingSubX[z, 1], matchesl[i][1], side='left')\n",
    "            if len(z) == p and p > 0:\n",
    "                start = z[p-1]+1\n",
    "            else:\n",
    "                start = z[p]-1\n",
    "        parent[i] = increasingSub[start-1]\n",
    "        increasingSub[start] = i\n",
    "        increasingSubX[start] = matchesl[i]\n",
    "        if start > longest_seq_len:\n",
    "            longest_seq_len = start\n",
    "\n",
    "    current_node = increasingSub[longest_seq_len]\n",
    "    lll = [matchesl[current_node]]*longest_seq_len\n",
    "    for j in range(longest_seq_len-1, 0, -1):\n",
    "        current_node = parent[current_node]\n",
    "        lll[j-1] = matchesl[current_node]\n",
    "    return lll\n",
    "\n",
    "f = impl_t(array(matchesl))\n",
    "print(f\"len = {len(f)}\")\n",
    "print(f)"
   ]
  },
  {
   "cell_type": "code",
   "execution_count": 46,
   "id": "55e581ea-50df-49d5-9201-1270e5cdd083",
   "metadata": {},
   "outputs": [
    {
     "data": {
      "text/plain": [
       "array([[25, 10],\n",
       "       [50, 10],\n",
       "       [50, 11],\n",
       "       [55, 13]])"
      ]
     },
     "execution_count": 46,
     "metadata": {},
     "output_type": "execute_result"
    }
   ],
   "source": [
    "x = array(matchesl)\n",
    "# x[:15,:][x[:15,1] >= 10]\n",
    "q = argwhere(x[:15,1]>=10).squeeze()\n",
    "x[q]"
   ]
  },
  {
   "cell_type": "code",
   "execution_count": 91,
   "id": "e0d9581d-fae5-4bb4-bf19-921a35cac4de",
   "metadata": {},
   "outputs": [
    {
     "data": {
      "text/plain": [
       "6"
      ]
     },
     "execution_count": 91,
     "metadata": {},
     "output_type": "execute_result"
    }
   ],
   "source": [
    "bb = array([0, 0, 0, 0, 0.5, 0.7, 1.2, 1.9, 2.0])\n",
    "searchsorted(bb, 1)"
   ]
  },
  {
   "cell_type": "code",
   "execution_count": 95,
   "id": "681c7430-8de4-444a-a540-5355d27f98bd",
   "metadata": {},
   "outputs": [
    {
     "name": "stdout",
     "output_type": "stream",
     "text": [
      "len = 10\n",
      "[array([10,  1]), array([10,  5]), array([11,  2]), array([15,  8]), array([26,  7]), array([50, 10]), array([50, 11]), array([55, 12]), array([90, 12]), array([90, 13])]\n"
     ]
    }
   ],
   "source": [
    "from numpy import array, searchsorted, where, argwhere\n",
    "import heapq\n",
    "\n",
    "def impl_dupa(matchesl):\n",
    "    n = len(matchesl)\n",
    "    longest_seq_len = 0\n",
    "    parent = [maxsize]*(n+1)\n",
    "    increasingSub = [maxsize]*(n+1)\n",
    "    increasingSubX = array([matchesl[0]]*(n+1))\n",
    "    ohuj = []\n",
    "    for i in range(n):\n",
    "        start = searchsorted(increasingSubX[:longest_seq_len, 1], matchesl[i][1], side='left') + 1\n",
    "        # z = argwhere(matches[:longest_seq_len,0]>=matchesl[i][0] - max_diff).flatten() # OK pozycje\n",
    "        # if len(z) == 0:\n",
    "        #     start = longest_seq_len+1\n",
    "        # else:\n",
    "        #     p = searchsorted(increasingSubX[z, 1], matchesl[i][1], side='left')\n",
    "        #     if len(z) == p and p > 0:\n",
    "        #         start = z[p-1]+1\n",
    "        #     else:\n",
    "        #         start = z[p]-1\n",
    "        \n",
    "        parent[i] = increasingSub[start-1]\n",
    "        increasingSub[start] = i\n",
    "        increasingSubX[start] = matchesl[i]\n",
    "        heapq.heappush(ohuj, (matchesl[i][0], i))\n",
    "        \n",
    "        if start > longest_seq_len:\n",
    "            longest_seq_len = start\n",
    "\n",
    "    current_node = increasingSub[longest_seq_len]\n",
    "    lll = [matchesl[current_node]]*longest_seq_len\n",
    "    for j in range(longest_seq_len-1, 0, -1):\n",
    "        current_node = parent[current_node]\n",
    "        lll[j-1] = matchesl[current_node]\n",
    "    return lll\n",
    "\n",
    "f = impl_dupa(array(matchesl))\n",
    "print(f\"len = {len(f)}\")\n",
    "print(f)"
   ]
  },
  {
   "cell_type": "code",
   "execution_count": null,
   "id": "97efa62f-cc52-483d-bd51-8e3ef8d1b701",
   "metadata": {},
   "outputs": [],
   "source": []
  }
 ],
 "metadata": {
  "kernelspec": {
   "display_name": "Python 3 (ipykernel)",
   "language": "python",
   "name": "python3"
  },
  "language_info": {
   "codemirror_mode": {
    "name": "ipython",
    "version": 3
   },
   "file_extension": ".py",
   "mimetype": "text/x-python",
   "name": "python",
   "nbconvert_exporter": "python",
   "pygments_lexer": "ipython3",
   "version": "3.10.7"
  }
 },
 "nbformat": 4,
 "nbformat_minor": 5
}
