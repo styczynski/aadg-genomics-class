{
 "cells": [
  {
   "cell_type": "code",
   "execution_count": 1,
   "id": "73521cb6-d831-432f-99c8-674425f1e348",
   "metadata": {},
   "outputs": [],
   "source": [
    "import sys\n",
    "from Bio import SeqRecord, SeqIO\n",
    "\n",
    "import gc\n",
    "from dataclasses import dataclass\n",
    "import sys\n",
    "import copy\n",
    "from aadg_genomics_class.monitoring.logs import LOGS\n",
    "from aadg_genomics_class.monitoring.task_reporter import TaskReporter, monitor_mem_snapshot\n",
    "from aadg_genomics_class import click_utils as click\n",
    "from aadg_genomics_class.new_aligner2 import align_seq\n",
    "from aadg_genomics_class.new_aligner2np import doit\n",
    "from aadg_genomics_class.edit_check import levenshtein\n",
    "\n",
    "from typing import Dict, Any, Set, Optional\n",
    "from itertools import chain\n",
    "from numpy.lib.stride_tricks import sliding_window_view\n",
    "\n",
    "import csv\n",
    "import tracemalloc\n",
    "\n",
    "import math\n",
    "import numpy as np\n",
    "from typing import Iterable"
   ]
  },
  {
   "cell_type": "code",
   "execution_count": 9,
   "id": "77724a19-d678-4b19-aa6c-ef1e6b4db140",
   "metadata": {},
   "outputs": [],
   "source": [
    "MASKS: Optional[Dict[int, int]] = None\n",
    "MAX_KMER_SIZE = 64\n",
    "\n",
    "MAPPING = dict(\n",
    "    A=1,\n",
    "    a=1,\n",
    "    c=0,\n",
    "    C=0,\n",
    "    g=3,\n",
    "    G=3,\n",
    "    t=2,\n",
    "    T=2,\n",
    ")\n",
    "\n",
    "RR_MAPPING = [\"C\", \"A\", \"T\", \"G\"]\n",
    "\n",
    "COMPLEMENT_MAPPING = {\n",
    "    1: 2,\n",
    "    0: 3,\n",
    "    3: 0,\n",
    "    2: 1,\n",
    "}\n",
    "\n",
    "MAPPING_FN = np.vectorize(MAPPING.get)\n",
    "COMPLEMENT_MAPPING_FN = np.vectorize(COMPLEMENT_MAPPING.get)\n",
    "\n",
    "def format_sequences(src: Iterable[SeqRecord]):\n",
    "    result = {record.id: MAPPING_FN(np.array(record.seq)) for record in src}\n",
    "    return result, list(result.keys())\n",
    "\n",
    "def iter_sequences(src: Iterable[SeqRecord]):\n",
    "    return ((record.id, MAPPING_FN(np.array(record.seq))) for record in src)\n",
    "\n",
    "def sequence_complement(seq):\n",
    "     return COMPLEMENT_MAPPING_FN(seq)\n",
    "\n",
    "def generate_mask(\n",
    "    kmer_len: int,\n",
    ") -> int:\n",
    "    global MASKS\n",
    "    if not MASKS:\n",
    "        MASKS = dict()\n",
    "        ret = 3\n",
    "        for i in range(MAX_KMER_SIZE+1):\n",
    "            ret = (ret << 2) | 3\n",
    "            MASKS[i] = ret\n",
    "    return MASKS[kmer_len]\n"
   ]
  },
  {
   "cell_type": "code",
   "execution_count": 11,
   "id": "35f32378-896d-436d-acc2-75e111db591e",
   "metadata": {},
   "outputs": [],
   "source": [
    "\n",
    "def _get_kmers_min_pos(\n",
    "    sequence_len,\n",
    "    mask,\n",
    "    r_seq_arr,\n",
    "    kmers,\n",
    "    r_kmers,\n",
    "    window_len,\n",
    "    kmer_len,\n",
    "):\n",
    "    kmers_min_pos = np.add(np.argmin(sliding_window_view(kmers, window_shape=window_len), axis=1), np.arange(0, sequence_len - window_len + 1))\n",
    "    #r_kmers_min_pos = np.add(np.argmin(sliding_window_view(r_kmers, window_shape=window_len), axis=1), np.arange(0, sequence_len - window_len + 1))\n",
    "    return kmers_min_pos#, r_kmers_min_pos\n",
    "\n",
    "\n",
    "def get_minimizers_target(\n",
    "    seq_arr,\n",
    "    kmer_len,\n",
    "    window_len,\n",
    "):\n",
    "\n",
    "    sequence_len = len(seq_arr)\n",
    "    #r_seq_arr = sequence_complement(seq_arr) # This causes alignment problems?\n",
    "    mask = generate_mask(kmer_len)\n",
    "\n",
    "    # Function to compute kmer value based on the previous (on the left side) kmer value and new nucleotide\n",
    "    uadd = np.frompyfunc(lambda x, y: ((x << 2) | y) & mask, 2, 1)\n",
    "\n",
    "    # This computes values for kmers\n",
    "    kmers = uadd.accumulate(seq_arr, dtype=object).astype(int)\n",
    "    kmers[:kmer_len-2] = 0\n",
    "\n",
    "    # r_kmers = uadd.accumulate(r_seq_arr, dtype=object).astype(int)\n",
    "    # r_kmers[:kmer_len-2] = 0\n",
    "\n",
    "    # Do sliding window and get min kmers positions\n",
    "    kmers_min_pos = _get_kmers_min_pos( # r_kmers_min_pos\n",
    "        sequence_len=sequence_len,\n",
    "        mask=mask,\n",
    "        r_seq_arr=seq_arr,\n",
    "        kmers=kmers,\n",
    "        r_kmers=kmers,\n",
    "        window_len=window_len,\n",
    "        kmer_len=kmer_len,\n",
    "    )\n",
    "\n",
    "    # Select min from kmer and r_kmer\n",
    "    # select_min_from_kmer_r_kmer = np.argmin(np.column_stack((\n",
    "    #     r_kmers[r_kmers_min_pos],\n",
    "    #     kmers[kmers_min_pos],\n",
    "    # )), axis=1).astype(dtype=bool)\n",
    "\n",
    "    # Now collect all selected mimumum and kmers into single table\n",
    "    selected_kmers = np.column_stack((\n",
    "        kmers[kmers_min_pos],\n",
    "        kmers_min_pos,\n",
    "        np.ones(len(kmers_min_pos), dtype=bool)\n",
    "    ))[kmer_len:]\n",
    "\n",
    "    # Remove duplicates\n",
    "    selected_kmers = selected_kmers[selected_kmers[:, 0].argsort()]\n",
    "\n",
    "    # This part performs group by using the kmer value\n",
    "    selected_kmers_unique = np.unique(selected_kmers, axis=0)\n",
    "    selected_kmers_unique_idx = np.unique(selected_kmers_unique[:, 0], return_index=True)[1][1:]\n",
    "    selected_kmers_entries_split = np.split(selected_kmers_unique[:, 1:], selected_kmers_unique_idx)\n",
    "\n",
    "    if len(selected_kmers_unique) > 0:\n",
    "        # We zip all kmers into a dict\n",
    "        result = dict(zip(chain([selected_kmers_unique[0, 0]], selected_kmers_unique[selected_kmers_unique_idx, 0]), selected_kmers_entries_split))\n",
    "    else:\n",
    "        # If we have no minimizers we return nothing, sorry\n",
    "        result = dict()\n",
    "    return result"
   ]
  },
  {
   "cell_type": "code",
   "execution_count": 3,
   "id": "2f33668d-f621-43ad-b6a7-e9ab2e388ca7",
   "metadata": {},
   "outputs": [],
   "source": [
    "reference_records, reference_ids = format_sequences(SeqIO.parse(\"../data/reference.fasta\", \"fasta\"))"
   ]
  },
  {
   "cell_type": "code",
   "execution_count": 5,
   "id": "318104a9-1d85-4d07-9117-60317af4e8ec",
   "metadata": {},
   "outputs": [
    {
     "data": {
      "text/plain": [
       "['reference']"
      ]
     },
     "execution_count": 5,
     "metadata": {},
     "output_type": "execute_result"
    }
   ],
   "source": [
    "reference_ids"
   ]
  },
  {
   "cell_type": "code",
   "execution_count": 15,
   "id": "69266e1c-2862-4b9a-9052-9d4fa699585a",
   "metadata": {},
   "outputs": [],
   "source": [
    "kmer_len = 18\n",
    "window_len = 8\n",
    "min_index_target = get_minimizers_target(\n",
    "    reference_records[reference_ids[0]],\n",
    "    kmer_len=kmer_len,\n",
    "    window_len=window_len,\n",
    ")"
   ]
  },
  {
   "cell_type": "code",
   "execution_count": 18,
   "id": "ef79803e-e297-4ddf-bf6b-b1166fc221e8",
   "metadata": {},
   "outputs": [
    {
     "data": {
      "text/plain": [
       "(array([[729317,      1]]),\n",
       " array([[932737,      1]]),\n",
       " array([[645111,      1],\n",
       "        [645150,      1]]))"
      ]
     },
     "execution_count": 18,
     "metadata": {},
     "output_type": "execute_result"
    }
   ],
   "source": [
    "min_index_target[291873], min_index_target[2100232], min_index_target[278396374]"
   ]
  },
  {
   "cell_type": "code",
   "execution_count": 29,
   "id": "13a9526c-6027-44c6-bddf-c7b01cc36e7d",
   "metadata": {},
   "outputs": [],
   "source": [
    "selected_kmers = None\n",
    "def get_minimizers_target2(\n",
    "    seq_arr,\n",
    "    kmer_len,\n",
    "    window_len,\n",
    "):\n",
    "    global selected_kmers\n",
    "    sequence_len = len(seq_arr)\n",
    "    mask = generate_mask(kmer_len)\n",
    "\n",
    "    # Function to compute kmer value based on the previous (on the left side) kmer value and new nucleotide\n",
    "    uadd = np.frompyfunc(lambda x, y: ((x << 2) | y) & mask, 2, 1)\n",
    "\n",
    "    # This computes values for kmers\n",
    "    kmers = uadd.accumulate(seq_arr, dtype=object).astype(int)\n",
    "    kmers[:kmer_len-2] = 0\n",
    "    del seq_arr\n",
    "    \n",
    "    # Do sliding window and get min kmers positions\n",
    "    kmers_min_pos = np.add(np.argmin(sliding_window_view(kmers, window_shape=window_len), axis=1), np.arange(0, sequence_len - window_len + 1))\n",
    "    \n",
    "    # Now collect all selected mimumum and kmers into single table\n",
    "    selected_kmers = np.column_stack((\n",
    "        kmers[kmers_min_pos],\n",
    "        kmers_min_pos,\n",
    "        #np.ones(len(kmers_min_pos), dtype=bool)\n",
    "    ))[kmer_len:]\n",
    "    del kmers_min_pos\n",
    "    del kmers\n",
    "\n",
    "    # Remove duplicates\n",
    "    selected_kmers = selected_kmers[selected_kmers[:, 0].argsort()]\n",
    "    selected_kmers = np.unique(selected_kmers, axis=0)\n",
    "\n",
    "    # This part performs group by using the kmer value\n",
    "    selected_kmers_unique_idx = np.unique(selected_kmers[:, 0], return_index=True)[1][1:]\n",
    "    selected_kmers_entries_split = np.split(selected_kmers[:, 1], selected_kmers_unique_idx)\n",
    "\n",
    "    if len(selected_kmers) > 0:\n",
    "        # We zip all kmers into a dict\n",
    "        result = dict(zip(chain([selected_kmers[0, 0]], selected_kmers[selected_kmers_unique_idx, 0]), selected_kmers_entries_split))\n",
    "    else:\n",
    "        # If we have no minimizers we return nothing, sorry\n",
    "        result = dict()\n",
    "    return result"
   ]
  },
  {
   "cell_type": "code",
   "execution_count": 30,
   "id": "20d313fc-f3ec-4f29-ad25-5d4c9043fcdf",
   "metadata": {},
   "outputs": [
    {
     "data": {
      "text/plain": [
       "(array([729317]), array([932737]), array([645111, 645150]))"
      ]
     },
     "execution_count": 30,
     "metadata": {},
     "output_type": "execute_result"
    }
   ],
   "source": [
    "min_index_target = get_minimizers_target2(\n",
    "    reference_records[reference_ids[0]],\n",
    "    kmer_len=kmer_len,\n",
    "    window_len=window_len,\n",
    ")\n",
    "min_index_target[291873], min_index_target[2100232], min_index_target[278396374]"
   ]
  },
  {
   "cell_type": "code",
   "execution_count": 23,
   "id": "98effa82-308b-472c-aba4-fc8f023cb873",
   "metadata": {},
   "outputs": [
    {
     "data": {
      "text/plain": [
       "array([[       291873,        729317,             1],\n",
       "       [       291873,        729317,             1],\n",
       "       [       291873,        729317,             1],\n",
       "       ...,\n",
       "       [1095278559004,        533929,             1],\n",
       "       [1095666675286,        674229,             1],\n",
       "       [1098436833773,        716915,             1]])"
      ]
     },
     "execution_count": 23,
     "metadata": {},
     "output_type": "execute_result"
    }
   ],
   "source": [
    "selected_kmers"
   ]
  },
  {
   "cell_type": "code",
   "execution_count": 24,
   "id": "d9f0f6e7-0736-4113-a8cf-bedef519791d",
   "metadata": {},
   "outputs": [
    {
     "data": {
      "text/plain": [
       "array([       291873,        291873,        291873, ..., 1095278559004,\n",
       "       1095666675286, 1098436833773])"
      ]
     },
     "execution_count": 24,
     "metadata": {},
     "output_type": "execute_result"
    }
   ],
   "source": [
    "selected_kmers[:,0]"
   ]
  },
  {
   "cell_type": "code",
   "execution_count": null,
   "id": "b4562790-3504-4afd-89fd-34bfc48249f2",
   "metadata": {},
   "outputs": [],
   "source": []
  }
 ],
 "metadata": {
  "kernelspec": {
   "display_name": "Python 3 (ipykernel)",
   "language": "python",
   "name": "python3"
  },
  "language_info": {
   "codemirror_mode": {
    "name": "ipython",
    "version": 3
   },
   "file_extension": ".py",
   "mimetype": "text/x-python",
   "name": "python",
   "nbconvert_exporter": "python",
   "pygments_lexer": "ipython3",
   "version": "3.11.10"
  }
 },
 "nbformat": 4,
 "nbformat_minor": 5
}
